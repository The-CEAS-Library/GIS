{
  "cells": [
    {
      "cell_type": "markdown",
      "source": [
        "# **Getting Started with Python**"
      ],
      "metadata": {
        "id": "p1gWQsvVc-9m"
      }
    },
    {
      "cell_type": "markdown",
      "metadata": {
        "id": "8sUrEKMkGmPF"
      },
      "source": [
        "## **Objectives**\n",
        " * Intro. to Jupyter Notebook\n",
        " * Python for GIS\n",
        "  * Application in GIS\n",
        "  "
      ]
    },
    {
      "cell_type": "markdown",
      "metadata": {
        "id": "43-_He4OGmPc"
      },
      "source": [
        "\n",
        "### **What is Jupyter Notebook?**\n",
        "* An open-source web application that allows you to create, save and share documents (Notebooks) that contain live code, equations, visualizations and simple text called Markdown\n",
        "* Jupyter Notebook can run multiple languages (including Python and R)\n",
        "* Compatibile to kernels for many programming languages (currently 49 in total)\n",
        "* Default Kernel is IPython\n",
        "   \n",
        " \n",
        "### **Exploring the Jupyter Interface**\n",
        "#### **'Files' tab**\n",
        "* Navigate to the folder from which you want to work\n",
        "* Create new Python Notebooks, scripts with Text File, folders or Terminals\n",
        "\n",
        "#### **'Running' tab**\n",
        "* Monitor currently running Terminals and Notebooks\n",
        "\n",
        "#### **New Text Files/Scripts**\n",
        "* New scripts are used to save python scripts or programs \n",
        "* New scripts are saved in the current folder path\n",
        "* Change the Language to python and rename the file with a **'.py'** extension\n",
        "\n",
        "#### **New Python Notebooks**\n",
        "* A notebook allows you to create, save and share documents that contain live code\n",
        "* New Notebooks are saved in the current folder path as a .ipynb extension\n",
        "* You may rename the notebook\n",
        "* To add python code, select **'Code'** in the dropdown\n",
        " * Hit **Enter** to add another line in the current cell\n",
        " * Hit **Control-Enter** or click **Run** executes the code in a cell. This will automatically add a new cell below\n",
        "* To add normal text as narrative to the notebook, select **'Markdown'** or **'Heading'** in the dropdown\n",
        " * Go to this link for more on Markdowns - https://github.com/adam-p/markdown-here/wiki/Markdown-Cheatsheet"
      ]
    },
    {
      "cell_type": "markdown",
      "source": [
        "### **Python for GIS**\n",
        "\n",
        "* Enhance GIS's functionality to manage and analyze data\n",
        "* Easy to integrate with software applications\n",
        "* Very efficient in time\n",
        "* Most commonly used Python libraries for GIS - Arcpy, Geopandas, Folium, PyProj, RSGISLib, Pandas, Numpy, Matplotlib, ipyleaflet, Scikit etc."
      ],
      "metadata": {
        "id": "ZIhgLR9g8l0W"
      }
    },
    {
      "cell_type": "markdown",
      "source": [
        "### **Adding Locations to the Map**"
      ],
      "metadata": {
        "id": "PGuNOtwbcz4d"
      }
    },
    {
      "cell_type": "code",
      "source": [
        "# Install Folium and Pandas using 'pip'\n",
        "\n",
        "!pip install folium\n",
        "\n",
        "!pip install pandas"
      ],
      "metadata": {
        "id": "_NrnRa0mjseB"
      },
      "execution_count": null,
      "outputs": []
    },
    {
      "cell_type": "code",
      "source": [],
      "metadata": {
        "id": "llFnZnUNs5co"
      },
      "execution_count": null,
      "outputs": []
    },
    {
      "cell_type": "code",
      "source": [
        "# Import 'pandas' to read a 'CSV' file\n",
        "\n",
        "import pandas as pd\n",
        "\n",
        "new_df = pd.read_csv('cincy_data.csv')\n",
        "\n",
        "new_df"
      ],
      "metadata": {
        "id": "k1Ts2xvVTxUL"
      },
      "execution_count": null,
      "outputs": []
    },
    {
      "cell_type": "code",
      "source": [
        "# Import 'folium' to create interactive maps\n",
        "\n",
        "import folium\n",
        "\n",
        "cincy = folium.Map(location = [39.1031, -84.5120], width = 750, height = 500, zoom_start = 13, tiles = 'openstreetmap')\n",
        "\n",
        "cincy"
      ],
      "metadata": {
        "id": "42DJ9CL3Trqz"
      },
      "execution_count": null,
      "outputs": []
    },
    {
      "cell_type": "code",
      "source": [
        "tiles = ['Stamen Terrain', 'Stamen Toner', 'Stamen Watercolor', 'CartoDB positron', 'CartoDB dark_matter']\n",
        "\n",
        "# Add layers to the map\n",
        "\n",
        "for layer in tiles:\n",
        "\n",
        "  folium.TileLayer(layer).add_to(cincy)\n",
        "\n",
        "folium.LayerControl().add_to(cincy)\n",
        "\n",
        "cincy"
      ],
      "metadata": {
        "id": "g_bucZ1FTmJS"
      },
      "execution_count": null,
      "outputs": []
    },
    {
      "cell_type": "code",
      "source": [
        "# Highlight an area using a 'Circle' marker\n",
        "\n",
        "folium.Circle(location = [39.1320, -84.5155],radius=400,fill=True,popup='University of Cincinnati').add_to(cincy)\n",
        "\n",
        "cincy"
      ],
      "metadata": {
        "id": "CLkr5BrxTg-i"
      },
      "execution_count": null,
      "outputs": []
    },
    {
      "cell_type": "code",
      "source": [
        "#Add markers to the map using latitudes and longitudes\n",
        "\n",
        "for loc, lat, long in zip(new_df['Location'],new_df['Latitude'], new_df['Longitude']):    \n",
        "\n",
        "    locations = folium.Marker(location=[lat, long], popup =loc, fill=False)   \n",
        "\n",
        "    locations.add_to(cincy)\n",
        "\n",
        "#Return the updated map\n",
        "cincy"
      ],
      "metadata": {
        "id": "eHGVft5aTUGj"
      },
      "execution_count": null,
      "outputs": []
    },
    {
      "cell_type": "markdown",
      "source": [
        "# Appendix\n",
        "## Download & Installation\n",
        "### Anaconda \n",
        "Latest releases - Anaconda 5.3.1\n",
        "* Download at https://www.anaconda.com/download/\n",
        "* Select the right operating system (Windows, Mac or Linux)\n",
        " \n",
        "### Jupyter Notebook\n",
        "* Install Jupyter Notebook by **installing Anaconda**\n",
        " * Anaconda installs Jupyter Notebook alongside Python, IPython and other commonly used packages for scientific computing and data science\n",
        " * Highly recommended for new users\n",
        "\n",
        "* Installing stand alone Jupyter **via command line**\n",
        " * For more experienced Python users\n",
        " * **Prerequisite:** Python 3.3 or greater, or Python 2.7 and **pip**\n",
        " * Open Command Prompt for Windows or Terminal for Mac or Linux\n",
        " * Type the following command<br>\n",
        "   Python 2 - **pip install jupyter**<br>\n",
        "   Python 3 - **pip3 install jupyter**"
      ],
      "metadata": {
        "id": "RRD-JZh5vsQw"
      }
    },
    {
      "cell_type": "markdown",
      "metadata": {
        "id": "1Dxo8BNkGmPc"
      },
      "source": [
        "\n",
        "# Helpful Resources\n",
        "* CEAS Library Python resources - http://guides.libraries.uc.edu/python\n",
        "* Online links & tutorials\n",
        " * Python documentation - https://www.python.org/doc/\n",
        " * Python Programming wiki book - http://en.wikibooks.org/wiki/Python_Programming\n",
        " * Python tutorials - Udemy, Code academy, etc\n",
        " * Tutorials Point - https://www.tutorialspoint.com/python\n",
        " * GIS with Python - https://automating-gis-processes.github.io/2016/index.html"
      ]
    },
    {
      "cell_type": "markdown",
      "metadata": {
        "id": "Zwb859xhGmPc"
      },
      "source": [
        "# $\\;\\;\\;\\;\\;\\;\\;\\;\\;\\;\\;\\;\\;\\;\\;\\;\\;\\;\\;\\;\\;\\;\\;\\;\\;\\;\\;\\;\\;\\;\\;\\;\\;$Questions ??\n",
        "\n",
        "$\\;\\;\\;\\;\\;\\;\\;\\;\\;\\;\\;\\;\\;\\;\\;\\;\\;\\;\\;\\;\\;\\;\\;\\;\\;\\;\\;\\;\\;\\;\\;\\;\\;\\;\\;\\;\\;\\;\\;\\;\\;\\;\\;\\;\\;\\;\\;\\;\\;\\;\\;\\;\\;\\;\\;\\;\\;\\;$**Thank you for attending the workshop !!**\n",
        "\n",
        "\n",
        "$\\;\\;\\;\\;\\;\\;\\;\\;\\;\\;\\;\\;\\;\\;\\;\\;\\;\\;\\;\\;\\;\\;\\;\\;\\;\\;\\;\\;\\;\\;\\;\\;\\;\\;\\;\\;\\;\\;\\;\\;\\;\\;\\;\\;\\;\\;$**Your kind suggestions/feedbacks are more than welcome**"
      ]
    }
  ],
  "metadata": {
    "kernelspec": {
      "display_name": "Python 3",
      "language": "python",
      "name": "python3"
    },
    "language_info": {
      "codemirror_mode": {
        "name": "ipython",
        "version": 3
      },
      "file_extension": ".py",
      "mimetype": "text/x-python",
      "name": "python",
      "nbconvert_exporter": "python",
      "pygments_lexer": "ipython3",
      "version": "3.7.10"
    },
    "colab": {
      "provenance": []
    }
  },
  "nbformat": 4,
  "nbformat_minor": 0
}